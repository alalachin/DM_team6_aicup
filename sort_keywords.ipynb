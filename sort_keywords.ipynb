{
 "cells": [
  {
   "cell_type": "markdown",
   "metadata": {},
   "source": [
    "把 keywords 依<br>\n",
    "1. \"同義詞\"間長度\n",
    "2. \"最長非同義詞\"間長度\n",
    "\n",
    "由長到短排序（如第三個cell），方便正確地取代<br>\n",
    "p.s. 統一取代成最短的同義詞好了<br>\n",
    "ex_1: '番茄黃化捲葉病毒' --> '番茄捲葉病' <br>\n",
    "ex_2: '細菌性黑斑病', '黑斑病', '鬼頭病' --> '輪斑病'<br>"
   ]
  },
  {
   "cell_type": "code",
   "execution_count": 2,
   "metadata": {},
   "outputs": [],
   "source": [
    "import pandas as pd\n",
    "\n",
    "\n",
    "key_chem = pd.read_excel(\"./Keywords/02chem.list.xlsx\", header=None, index_col=False)\n",
    "key_crop = pd.read_excel(\"./Keywords/02crop.list.xlsx\", header=None, index_col=False)\n",
    "key_pest = pd.read_excel(\"./Keywords/02pest.list.xlsx\", header=None, index_col=False)\n",
    "\n",
    "\n",
    "def make_key_lists(df):\n",
    "    output = []\n",
    "    num_cols = df.shape[1]\n",
    "    for ind, row in df.iterrows():\n",
    "        temp = [x for x in list(row) if pd.isnull(x) == False]\n",
    "        temp.sort(key=len, reverse=True)\n",
    "        output.append(temp)\n",
    "    output = sorted(output, key=lambda x: len(x[0]), reverse=True)\n",
    "    return output\n",
    "\n",
    "list_chem = make_key_lists(key_chem)\n",
    "list_crop = make_key_lists(key_crop)\n",
    "list_pest = make_key_lists(key_pest)"
   ]
  },
  {
   "cell_type": "code",
   "execution_count": 4,
   "metadata": {},
   "outputs": [
    {
     "data": {
      "text/plain": [
       "[['太平洋臀紋粉介殼蟲'],\n",
       " ['番茄黃化捲葉病毒', '番茄捲葉病'],\n",
       " ['番茄斑點萎凋病毒'],\n",
       " ['瓜類退綠黃化病毒'],\n",
       " ['霍香薊黃脈病毒'],\n",
       " ['褪綠斑駁病毒病'],\n",
       " ['臺灣本土黑螞蟻', '琉璃蟻'],\n",
       " ['細菌性黑斑病', '黑斑病', '鬼頭病', '輪斑病'],\n",
       " ['水稻縞葉枯病'],\n",
       " ['水稻水象鼻蟲'],\n",
       " ['番茄嵌紋病毒'],\n",
       " ['胡瓜嵌紋病毒'],\n",
       " ['馬鈴薯病毒Y'],\n",
       " ['細菌性條斑病'],\n",
       " ['二點小綠葉蟬'],\n",
       " ['細菌性斑點病'],\n",
       " ['細菌性角斑病', '臭葉'],\n",
       " ['柑橘窄胸天牛'],\n",
       " ['南瓜捲葉病毒'],\n",
       " ['白輪盾介殼蟲'],\n",
       " ['地中海果實蠅'],\n",
       " ['路易氏始葉螨'],\n",
       " ['斜紋夜盜蟲', '斜紋夜蛾', '行軍蟲', '黑肚蟲', '夜盜蟲', '黑蟲'],\n",
       " ['稻縱捲葉蟲', '縱捲葉蟲', '瘤野螟', '捲葉蟲', '葉尾蟲'],\n",
       " ['東方果實蠅', '蜂仔']]"
      ]
     },
     "execution_count": 4,
     "metadata": {},
     "output_type": "execute_result"
    }
   ],
   "source": [
    "list_pest[:25]"
   ]
  },
  {
   "cell_type": "code",
   "execution_count": null,
   "metadata": {},
   "outputs": [],
   "source": []
  },
  {
   "cell_type": "code",
   "execution_count": null,
   "metadata": {},
   "outputs": [],
   "source": []
  },
  {
   "cell_type": "code",
   "execution_count": null,
   "metadata": {},
   "outputs": [],
   "source": []
  },
  {
   "cell_type": "code",
   "execution_count": null,
   "metadata": {},
   "outputs": [],
   "source": []
  },
  {
   "cell_type": "code",
   "execution_count": null,
   "metadata": {},
   "outputs": [],
   "source": []
  }
 ],
 "metadata": {
  "kernelspec": {
   "display_name": "Python 3",
   "language": "python",
   "name": "python3"
  },
  "language_info": {
   "codemirror_mode": {
    "name": "ipython",
    "version": 3
   },
   "file_extension": ".py",
   "mimetype": "text/x-python",
   "name": "python",
   "nbconvert_exporter": "python",
   "pygments_lexer": "ipython3",
   "version": "3.6.9"
  }
 },
 "nbformat": 4,
 "nbformat_minor": 4
}
