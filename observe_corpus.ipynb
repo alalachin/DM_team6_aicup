{
 "cells": [
  {
   "cell_type": "code",
   "execution_count": 1,
   "metadata": {},
   "outputs": [],
   "source": [
    "import os\n",
    "import sys\n",
    "import numpy as np\n",
    "import pandas as pd\n",
    "\n",
    "module_path = os.path.abspath(os.path.join('./mytools/io_data.py'))\n",
    "if module_path not in sys.path:\n",
    "    sys.path.append(module_path)"
   ]
  },
  {
   "cell_type": "code",
   "execution_count": 2,
   "metadata": {},
   "outputs": [],
   "source": [
    "table_train = io_data.make_table(\"./dataTrainComplete\")\n",
    "data_train = io_data.make_data('train', table_train)\n",
    "data_train = data_train[['text_a', 'text_b', 'label']]"
   ]
  },
  {
   "cell_type": "code",
   "execution_count": 6,
   "metadata": {},
   "outputs": [
    {
     "data": {
      "text/html": [
       "<div>\n",
       "<style scoped>\n",
       "    .dataframe tbody tr th:only-of-type {\n",
       "        vertical-align: middle;\n",
       "    }\n",
       "\n",
       "    .dataframe tbody tr th {\n",
       "        vertical-align: top;\n",
       "    }\n",
       "\n",
       "    .dataframe thead th {\n",
       "        text-align: right;\n",
       "    }\n",
       "</style>\n",
       "<table border=\"1\" class=\"dataframe\">\n",
       "  <thead>\n",
       "    <tr style=\"text-align: right;\">\n",
       "      <th></th>\n",
       "      <th>ID</th>\n",
       "      <th>title</th>\n",
       "      <th>text</th>\n",
       "      <th>notice</th>\n",
       "    </tr>\n",
       "  </thead>\n",
       "  <tbody>\n",
       "    <tr>\n",
       "      <th>0</th>\n",
       "      <td>1301</td>\n",
       "      <td>香蕉所表示近日低溫細雨香蕉葉部病害易發生，防檢局籲請農友加強注意病徵，以及時進行防治\\n</td>\n",
       "      <td>一、近期時有細雨，加上早晚溫度低、露水量多，有利香蕉葉部病菌之感染及漫延，造成葉片嚴重發病及...</td>\n",
       "      <td>噴藥方式及藥劑配方如下列：(一)、肩背式微粒動力噴霧機：每公頃80%鋅錳乃浦可濕性粉劑2.3...</td>\n",
       "    </tr>\n",
       "    <tr>\n",
       "      <th>1</th>\n",
       "      <td>924</td>\n",
       "      <td>二期作水稻已陸續完成插秧，請留意防治水稻水象鼻蟲\\n</td>\n",
       "      <td>二期作水稻已陸續插秧，請留意防治水稻水象鼻蟲行政院農業委員會桃園區農業改良場表示，目前二期作...</td>\n",
       "      <td>\\n</td>\n",
       "    </tr>\n",
       "    <tr>\n",
       "      <th>2</th>\n",
       "      <td>595</td>\n",
       "      <td>鹿野鄉局部地區水稻胡麻葉枯病發生嚴重，臺東場籲請該地區農民及時防治\\n</td>\n",
       "      <td>臺東區農業改良場（以下簡稱臺東場）表示，該場於進行水稻病蟲害監測調查及相關試驗時，發現鹿野鄉...</td>\n",
       "      <td>防治方法及應注意事項：一、施行稻種消毒；勿選用罹病老熟秧苗，以免傳播病原。二、發病嚴重田，於...</td>\n",
       "    </tr>\n",
       "    <tr>\n",
       "      <th>3</th>\n",
       "      <td>438</td>\n",
       "      <td>臺南區農改場籲請農友注意水稻白葉枯病、稻熱病、紋枯病與葉鞘腐敗病之發生與防治。臺南區農改場、...</td>\n",
       "      <td>水稻已至白葉枯病發病高峰期，田間也陸續發生白葉枯病，且稻熱病與紋枯病持續發展，臺南區農改場籲...</td>\n",
       "      <td>農友應注意葉稻熱病、紋枯病與白葉枯病在田間是否發生，倘若發生應立即用藥防治。葉鞘腐敗病為水稻...</td>\n",
       "    </tr>\n",
       "    <tr>\n",
       "      <th>4</th>\n",
       "      <td>344</td>\n",
       "      <td>早晚溫差大濕度高，臺南場籲請農友加強水稻稻熱病與白葉枯病防治。\\n</td>\n",
       "      <td>近日台南地區早晚溫差大濕度高，罹患水稻白葉枯病與葉稻熱病有增加之趨勢，二期水稻也進入孕穗至抽...</td>\n",
       "      <td>水稻白葉枯病的病原細菌可由水孔或傷口侵入，常在葉片邊緣形成波浪狀病斑，隨著葉脈往下蔓延，在葉...</td>\n",
       "    </tr>\n",
       "  </tbody>\n",
       "</table>\n",
       "</div>"
      ],
      "text/plain": [
       "     ID                                              title  \\\n",
       "0  1301       香蕉所表示近日低溫細雨香蕉葉部病害易發生，防檢局籲請農友加強注意病徵，以及時進行防治\\n   \n",
       "1   924                         二期作水稻已陸續完成插秧，請留意防治水稻水象鼻蟲\\n   \n",
       "2   595                鹿野鄉局部地區水稻胡麻葉枯病發生嚴重，臺東場籲請該地區農民及時防治\\n   \n",
       "3   438  臺南區農改場籲請農友注意水稻白葉枯病、稻熱病、紋枯病與葉鞘腐敗病之發生與防治。臺南區農改場、...   \n",
       "4   344                  早晚溫差大濕度高，臺南場籲請農友加強水稻稻熱病與白葉枯病防治。\\n   \n",
       "\n",
       "                                                text  \\\n",
       "0  一、近期時有細雨，加上早晚溫度低、露水量多，有利香蕉葉部病菌之感染及漫延，造成葉片嚴重發病及...   \n",
       "1  二期作水稻已陸續插秧，請留意防治水稻水象鼻蟲行政院農業委員會桃園區農業改良場表示，目前二期作...   \n",
       "2  臺東區農業改良場（以下簡稱臺東場）表示，該場於進行水稻病蟲害監測調查及相關試驗時，發現鹿野鄉...   \n",
       "3  水稻已至白葉枯病發病高峰期，田間也陸續發生白葉枯病，且稻熱病與紋枯病持續發展，臺南區農改場籲...   \n",
       "4  近日台南地區早晚溫差大濕度高，罹患水稻白葉枯病與葉稻熱病有增加之趨勢，二期水稻也進入孕穗至抽...   \n",
       "\n",
       "                                              notice  \n",
       "0  噴藥方式及藥劑配方如下列：(一)、肩背式微粒動力噴霧機：每公頃80%鋅錳乃浦可濕性粉劑2.3...  \n",
       "1                                                 \\n  \n",
       "2  防治方法及應注意事項：一、施行稻種消毒；勿選用罹病老熟秧苗，以免傳播病原。二、發病嚴重田，於...  \n",
       "3  農友應注意葉稻熱病、紋枯病與白葉枯病在田間是否發生，倘若發生應立即用藥防治。葉鞘腐敗病為水稻...  \n",
       "4  水稻白葉枯病的病原細菌可由水孔或傷口侵入，常在葉片邊緣形成波浪狀病斑，隨著葉脈往下蔓延，在葉...  "
      ]
     },
     "execution_count": 6,
     "metadata": {},
     "output_type": "execute_result"
    }
   ],
   "source": [
    "table_train.head(5)"
   ]
  },
  {
   "cell_type": "code",
   "execution_count": 7,
   "metadata": {},
   "outputs": [
    {
     "data": {
      "text/html": [
       "<div>\n",
       "<style scoped>\n",
       "    .dataframe tbody tr th:only-of-type {\n",
       "        vertical-align: middle;\n",
       "    }\n",
       "\n",
       "    .dataframe tbody tr th {\n",
       "        vertical-align: top;\n",
       "    }\n",
       "\n",
       "    .dataframe thead th {\n",
       "        text-align: right;\n",
       "    }\n",
       "</style>\n",
       "<table border=\"1\" class=\"dataframe\">\n",
       "  <thead>\n",
       "    <tr style=\"text-align: right;\">\n",
       "      <th></th>\n",
       "      <th>text_a</th>\n",
       "      <th>text_b</th>\n",
       "      <th>label</th>\n",
       "    </tr>\n",
       "  </thead>\n",
       "  <tbody>\n",
       "    <tr>\n",
       "      <th>0</th>\n",
       "      <td>香蕉所表示近日低溫細雨香蕉葉部病害易發生，防檢局籲請農友加強注意病徵，以及時進行防治\\n</td>\n",
       "      <td>二期作水稻已陸續完成插秧，請留意防治水稻水象鼻蟲\\n</td>\n",
       "      <td>unlike</td>\n",
       "    </tr>\n",
       "    <tr>\n",
       "      <th>1</th>\n",
       "      <td>香蕉所表示近日低溫細雨香蕉葉部病害易發生，防檢局籲請農友加強注意病徵，以及時進行防治\\n</td>\n",
       "      <td>鹿野鄉局部地區水稻胡麻葉枯病發生嚴重，臺東場籲請該地區農民及時防治\\n</td>\n",
       "      <td>unlike</td>\n",
       "    </tr>\n",
       "    <tr>\n",
       "      <th>2</th>\n",
       "      <td>香蕉所表示近日低溫細雨香蕉葉部病害易發生，防檢局籲請農友加強注意病徵，以及時進行防治\\n</td>\n",
       "      <td>臺南區農改場籲請農友注意水稻白葉枯病、稻熱病、紋枯病與葉鞘腐敗病之發生與防治。臺南區農改場、...</td>\n",
       "      <td>unlike</td>\n",
       "    </tr>\n",
       "    <tr>\n",
       "      <th>3</th>\n",
       "      <td>香蕉所表示近日低溫細雨香蕉葉部病害易發生，防檢局籲請農友加強注意病徵，以及時進行防治\\n</td>\n",
       "      <td>早晚溫差大濕度高，臺南場籲請農友加強水稻稻熱病與白葉枯病防治。\\n</td>\n",
       "      <td>unlike</td>\n",
       "    </tr>\n",
       "    <tr>\n",
       "      <th>4</th>\n",
       "      <td>香蕉所表示近日低溫細雨香蕉葉部病害易發生，防檢局籲請農友加強注意病徵，以及時進行防治\\n</td>\n",
       "      <td>加強杜絕洋香瓜病毒病蔓延\\n</td>\n",
       "      <td>unlike</td>\n",
       "    </tr>\n",
       "  </tbody>\n",
       "</table>\n",
       "</div>"
      ],
      "text/plain": [
       "                                         text_a  \\\n",
       "0  香蕉所表示近日低溫細雨香蕉葉部病害易發生，防檢局籲請農友加強注意病徵，以及時進行防治\\n   \n",
       "1  香蕉所表示近日低溫細雨香蕉葉部病害易發生，防檢局籲請農友加強注意病徵，以及時進行防治\\n   \n",
       "2  香蕉所表示近日低溫細雨香蕉葉部病害易發生，防檢局籲請農友加強注意病徵，以及時進行防治\\n   \n",
       "3  香蕉所表示近日低溫細雨香蕉葉部病害易發生，防檢局籲請農友加強注意病徵，以及時進行防治\\n   \n",
       "4  香蕉所表示近日低溫細雨香蕉葉部病害易發生，防檢局籲請農友加強注意病徵，以及時進行防治\\n   \n",
       "\n",
       "                                              text_b   label  \n",
       "0                         二期作水稻已陸續完成插秧，請留意防治水稻水象鼻蟲\\n  unlike  \n",
       "1                鹿野鄉局部地區水稻胡麻葉枯病發生嚴重，臺東場籲請該地區農民及時防治\\n  unlike  \n",
       "2  臺南區農改場籲請農友注意水稻白葉枯病、稻熱病、紋枯病與葉鞘腐敗病之發生與防治。臺南區農改場、...  unlike  \n",
       "3                  早晚溫差大濕度高，臺南場籲請農友加強水稻稻熱病與白葉枯病防治。\\n  unlike  \n",
       "4                                     加強杜絕洋香瓜病毒病蔓延\\n  unlike  "
      ]
     },
     "execution_count": 7,
     "metadata": {},
     "output_type": "execute_result"
    }
   ],
   "source": [
    "data_train.head(5)"
   ]
  },
  {
   "cell_type": "markdown",
   "metadata": {},
   "source": [
    "## to make observation file"
   ]
  },
  {
   "cell_type": "code",
   "execution_count": null,
   "metadata": {},
   "outputs": [],
   "source": [
    "# 比較相關/不相關的article pair, 找出相關性的規則\n",
    "# 可以搭配取代關鍵字使用\n",
    "\n",
    "temp_like = data_train.loc[data_train['label']=='like'][['text_a', 'text_b', 'label']].iloc[:100]\n",
    "temp_unlike = data_train.loc[data_train['label']=='unlike'][['text_a', 'text_b', 'label']].iloc[:100]\n",
    "pd.concat([temp_like, temp_unlike], axis=0).to_csv(\"./observe/mix.csv\", index=False)"
   ]
  }
 ],
 "metadata": {
  "kernelspec": {
   "display_name": "Python 3",
   "language": "python",
   "name": "python3"
  },
  "language_info": {
   "codemirror_mode": {
    "name": "ipython",
    "version": 3
   },
   "file_extension": ".py",
   "mimetype": "text/x-python",
   "name": "python",
   "nbconvert_exporter": "python",
   "pygments_lexer": "ipython3",
   "version": "3.6.9"
  }
 },
 "nbformat": 4,
 "nbformat_minor": 4
}
